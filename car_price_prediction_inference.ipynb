{
 "cells": [
  {
   "cell_type": "markdown",
   "id": "eb65ae6c",
   "metadata": {},
   "source": [
    "# Prediction of New Car Prices in 2025 Based on Technical Specifications"
   ]
  },
  {
   "cell_type": "markdown",
   "id": "39f1f7b6",
   "metadata": {},
   "source": [
    "# Model Interface XGBoost"
   ]
  },
  {
   "cell_type": "markdown",
   "id": "1d5b5f28",
   "metadata": {},
   "source": [
    "---\n",
    "\n",
    "**Name:** Hafiz Alfariz\n",
    "\n",
    "**Dataset:** This project uses the \"Cars Datasets 2025\" from Kaggle, which contains technical specifications and prices for various new car models released in 2025.\n",
    "https://www.kaggle.com/datasets/abdulmalik1518/cars-datasets-2025\n",
    "\n",
    "---"
   ]
  },
  {
   "cell_type": "markdown",
   "id": "649dfdb9",
   "metadata": {},
   "source": [
    "# 1. Import Library"
   ]
  },
  {
   "cell_type": "code",
   "execution_count": 1,
   "id": "64fa0445",
   "metadata": {},
   "outputs": [],
   "source": [
    "import pandas as pd\n",
    "import numpy as np\n",
    "import cloudpickle"
   ]
  },
  {
   "cell_type": "markdown",
   "id": "a60f7e53",
   "metadata": {},
   "source": [
    "# 2. Load pipeline and model"
   ]
  },
  {
   "cell_type": "code",
   "execution_count": 2,
   "id": "25583bef",
   "metadata": {},
   "outputs": [
    {
     "name": "stdout",
     "output_type": "stream",
     "text": [
      "Model and pipeline successfully loaded.\n"
     ]
    }
   ],
   "source": [
    "# Load pipeline and model\n",
    "with open(\"preprocessing_pipeline.pkl\", \"rb\") as f:\n",
    "    preprocessing_pipeline = cloudpickle.load(f)\n",
    "with open(\"best_xgb_rand.pkl\", \"rb\") as f:\n",
    "    model = cloudpickle.load(f)\n",
    "\n",
    "print(\"Model and pipeline successfully loaded.\")"
   ]
  },
  {
   "cell_type": "markdown",
   "id": "72c30721",
   "metadata": {},
   "source": [
    "# 3. Prediction Function"
   ]
  },
  {
   "cell_type": "code",
   "execution_count": 3,
   "id": "7a4d0009",
   "metadata": {},
   "outputs": [],
   "source": [
    "# Prediction function\n",
    "def predict_price(df_input):\n",
    "    df_input = df_input.copy()\n",
    "    df_input['cars_prices'] = 0  # dummy column to prevent pipeline errors\n",
    "\n",
    "    # Ensure empty numeric columns are filled with NaN\n",
    "    for col in ['horsepower', 'total_speed', 'performance0__100_km_h',\n",
    "                'seats', 'torque', 'engine_cc', 'battery_capacity_kwh']:\n",
    "        df_input[col] = df_input[col].replace('', np.nan)\n",
    "\n",
    "    # Data transformation\n",
    "    X_new = preprocessing_pipeline.transform(df_input)\n",
    "    pred_log = model.predict(X_new)\n",
    "    pred_price = np.expm1(pred_log)\n",
    "    df_input['predicted_price'] = pred_price\n",
    "    return df_input[['company_names', 'cars_names', 'predicted_price']]\n"
   ]
  },
  {
   "cell_type": "markdown",
   "id": "d5c7595d",
   "metadata": {},
   "source": [
    "# 4. New input for prediction"
   ]
  },
  {
   "cell_type": "code",
   "execution_count": 4,
   "id": "936423a7",
   "metadata": {},
   "outputs": [],
   "source": [
    "# New data for prediction\n",
    "new_input = pd.DataFrame([\n",
    "    {\n",
    "        'company_names': 'BYD',\n",
    "        'cars_names': 'Seal EV',\n",
    "        'engines': 'Electric Motor',\n",
    "        'horsepower': '530',\n",
    "        'total_speed': '210',\n",
    "        'performance0__100_km_h': '3.8',\n",
    "        'fuel_types': 'Electric',\n",
    "        'seats': '5',\n",
    "        'torque': '670',\n",
    "        'engine_cc': '',  # Electric, there is no engine cc\n",
    "        'battery_capacity_kwh': '82'\n",
    "    },\n",
    "    {\n",
    "        'company_names': 'Honda',\n",
    "        'cars_names': 'CR-V Hybrid',\n",
    "        'engines': '2.0L Hybrid',\n",
    "        'horsepower': '184',\n",
    "        'total_speed': '190',\n",
    "        'performance0__100_km_h': '8.6',\n",
    "        'fuel_types': 'Hybrid',\n",
    "        'seats': '5',\n",
    "        'torque': '315',\n",
    "        'engine_cc': '1993',\n",
    "        'battery_capacity_kwh': '1.4'\n",
    "    },\n",
    "    {\n",
    "        'company_names': 'Toyota',\n",
    "        'cars_names': 'Corolla Hybrid',\n",
    "        'engines': '1.8L Hybrid',\n",
    "        'horsepower': '121',\n",
    "        'total_speed': '180',\n",
    "        'performance0__100_km_h': '10.9',\n",
    "        'fuel_types': 'Hybrid',\n",
    "        'seats': '5',\n",
    "        'torque': '142',\n",
    "        'engine_cc': '1798',\n",
    "        'battery_capacity_kwh': '1.3'\n",
    "    },\n",
    "    {\n",
    "        'company_names': 'BMW',\n",
    "        'cars_names': 'M340i XDRIVE',\n",
    "        'engines': 'I6',\n",
    "        'horsepower': '382',\n",
    "        'total_speed': '250',\n",
    "        'performance0__100_km_h': '4.1',\n",
    "        'fuel_types': 'Petrol',\n",
    "        'seats': '5',\n",
    "        'torque': '500',\n",
    "        'engine_cc': '2998',\n",
    "        'battery_capacity_kwh': ''\n",
    "    },\n",
    "    {\n",
    "        'company_names': 'Nissan',\n",
    "        'cars_names': 'GT-R',\n",
    "        'engines': 'V6',\n",
    "        'horsepower': '600',\n",
    "        'total_speed': '315',\n",
    "        'performance0__100_km_h': '2.9',\n",
    "        'fuel_types': 'Petrol',\n",
    "        'seats': '4',\n",
    "        'torque': '637',\n",
    "        'engine_cc': '3799',\n",
    "        'battery_capacity_kwh': ''\n",
    "    },\n",
    "    {\n",
    "        'company_names': 'Hyundai',\n",
    "        'cars_names': 'IONIQ 5',\n",
    "        'engines': 'Electric Motor',\n",
    "        'horsepower': '225',\n",
    "        'total_speed': '185',\n",
    "        'performance0__100_km_h': '7.4',\n",
    "        'fuel_types': 'Electric',\n",
    "        'seats': '5',\n",
    "        'torque': '350',\n",
    "        'engine_cc': '',\n",
    "        'battery_capacity_kwh': '72.6'\n",
    "    },\n",
    "    {\n",
    "        'company_names': 'Mazda',\n",
    "        'cars_names': 'CX-5',\n",
    "        'engines': '2.5L SkyActiv-G',\n",
    "        'horsepower': '187',\n",
    "        'total_speed': '200',\n",
    "        'performance0__100_km_h': '8.8',\n",
    "        'fuel_types': 'Petrol',\n",
    "        'seats': '5',\n",
    "        'torque': '252',\n",
    "        'engine_cc': '2500',\n",
    "        'battery_capacity_kwh': ''\n",
    "    },\n",
    "    {\n",
    "        'company_names': 'FERRARI',\n",
    "        'cars_names': 'F8 TRIBUTO',\n",
    "        'engines': 'V8',\n",
    "        'horsepower': '710',\n",
    "        'total_speed': '340',\n",
    "        'performance0__100_km_h': '2.9',\n",
    "        'fuel_types': 'Petrol',\n",
    "        'seats': '2',\n",
    "        'torque': '770',\n",
    "        'engine_cc': '3900',\n",
    "        'battery_capacity_kwh': ''\n",
    "    },\n",
    "    {\n",
    "        'company_names': 'TOYOTA',\n",
    "        'cars_names': 'PRIUS',\n",
    "        'engines': 'I4',\n",
    "        'horsepower': '121',\n",
    "        'total_speed': '180',\n",
    "        'performance0__100_km_h': '10.5',\n",
    "        'fuel_types': 'Hybrid',\n",
    "        'seats': '5',\n",
    "        'torque': '142',\n",
    "        'engine_cc': '1798',\n",
    "        'battery_capacity_kwh': ''\n",
    "    },\n",
    "    {\n",
    "        'company_names': 'AUDI',\n",
    "        'cars_names': 'RS7 SPORTBACK',\n",
    "        'engines': 'V8',\n",
    "        'horsepower': '591',\n",
    "        'total_speed': '305',\n",
    "        'performance0__100_km_h': '3.6',\n",
    "        'fuel_types': 'Petrol',\n",
    "        'seats': '5',\n",
    "        'torque': '800',\n",
    "        'engine_cc': '3993',\n",
    "        'battery_capacity_kwh': ''\n",
    "    },\n",
    "    {\n",
    "        'company_names': 'TESLA',\n",
    "        'cars_names': 'Model S Plaid',\n",
    "        'engines': 'Tri Electric Motors',\n",
    "        'horsepower': '1020',\n",
    "        'total_speed': '322',\n",
    "        'performance0__100_km_h': '2.1',\n",
    "        'fuel_types': 'Electric',\n",
    "        'seats': '5',\n",
    "        'torque': '1400',\n",
    "        'engine_cc': '',\n",
    "        'battery_capacity_kwh': '100'\n",
    "    },\n",
    "    {\n",
    "        'company_names': 'HONDA',\n",
    "        'cars_names': 'CIVIC TYPE R',\n",
    "        'engines': 'I4',\n",
    "        'horsepower': '315',\n",
    "        'total_speed': '272',\n",
    "        'performance0__100_km_h': '5.7',\n",
    "        'fuel_types': 'Petrol',\n",
    "        'seats': '5',\n",
    "        'torque': '400',\n",
    "        'engine_cc': '1996',\n",
    "        'battery_capacity_kwh': ''\n",
    "    }\n",
    "])\n",
    "\n"
   ]
  },
  {
   "cell_type": "markdown",
   "id": "72aed367",
   "metadata": {},
   "source": [
    "# 5. Make predictions for the new car price"
   ]
  },
  {
   "cell_type": "code",
   "execution_count": 5,
   "id": "e2c56a72",
   "metadata": {},
   "outputs": [],
   "source": [
    "# 5. Predict the price of a new car\n",
    "result_new = predict_price(new_input)"
   ]
  },
  {
   "cell_type": "markdown",
   "id": "147dd480",
   "metadata": {},
   "source": [
    "# 6. Display Result"
   ]
  },
  {
   "cell_type": "code",
   "execution_count": 6,
   "id": "07363218",
   "metadata": {},
   "outputs": [
    {
     "name": "stdout",
     "output_type": "stream",
     "text": [
      "\n",
      "Table of predicted car prices (with input):\n",
      "   company_names      cars_names              engines horsepower total_speed performance0__100_km_h fuel_types seats torque engine_cc battery_capacity_kwh predicted_price_$\n",
      "0            BYD         Seal EV       Electric Motor        530         210                    3.8   Electric     5    670                             82          $110,431\n",
      "1          Honda     CR-V Hybrid          2.0L Hybrid        184         190                    8.6     Hybrid     5    315      1993                  1.4           $37,844\n",
      "2         Toyota  Corolla Hybrid          1.8L Hybrid        121         180                   10.9     Hybrid     5    142      1798                  1.3           $26,520\n",
      "3            BMW    M340i XDRIVE                   I6        382         250                    4.1     Petrol     5    500      2998                                $55,816\n",
      "4         Nissan            GT-R                   V6        600         315                    2.9     Petrol     4    637      3799                               $116,385\n",
      "5        Hyundai         IONIQ 5       Electric Motor        225         185                    7.4   Electric     5    350                           72.6           $37,896\n",
      "6          Mazda            CX-5      2.5L SkyActiv-G        187         200                    8.8     Petrol     5    252      2500                                $28,540\n",
      "7        FERRARI      F8 TRIBUTO                   V8        710         340                    2.9     Petrol     2    770      3900                               $249,599\n",
      "8         TOYOTA           PRIUS                   I4        121         180                   10.5     Hybrid     5    142      1798                                $30,633\n",
      "9           AUDI   RS7 SPORTBACK                   V8        591         305                    3.6     Petrol     5    800      3993                                $94,624\n",
      "10         TESLA   Model S Plaid  Tri Electric Motors       1020         322                    2.1   Electric     5   1400                            100          $212,632\n",
      "11         HONDA    CIVIC TYPE R                   I4        315         272                    5.7     Petrol     5    400      1996                                $39,780\n"
     ]
    }
   ],
   "source": [
    "# Display results as a complete table\n",
    "result_display = new_input.copy()\n",
    "result_display['predicted_price_$'] = result_new['predicted_price'].apply(lambda x: f\"${x:,.0f}\")\n",
    "\n",
    "print(\"\\nTable of predicted car prices (with input):\")\n",
    "print(result_display.to_string(justify='right'))\n"
   ]
  },
  {
   "cell_type": "markdown",
   "id": "5040ac10",
   "metadata": {},
   "source": [
    "# Model Inference Conclusion\n",
    "\n",
    "* The XGBoost model, which has been trained and fine-tuned, successfully predicts the price of new cars in 2025 based on technical specification inputs.\n",
    "\n",
    "* The preprocessing pipeline runs smoothly, capable of handling various data types and missing values in the input features.\n",
    "\n",
    "* The predicted prices are presented clearly and are easy to understand, using a table format that includes both car specifications and predicted prices in USD.\n",
    "\n",
    "* This inference model can be used to automatically estimate new car prices, providing value for consumers, dealers, and manufacturers in decision-making.\n",
    "\n",
    "* Overall, the system is ready to be used for predicting new car prices with relevant specification inputs."
   ]
  }
 ],
 "metadata": {
  "kernelspec": {
   "display_name": "h8_env",
   "language": "python",
   "name": "python3"
  },
  "language_info": {
   "codemirror_mode": {
    "name": "ipython",
    "version": 3
   },
   "file_extension": ".py",
   "mimetype": "text/x-python",
   "name": "python",
   "nbconvert_exporter": "python",
   "pygments_lexer": "ipython3",
   "version": "3.9.23"
  }
 },
 "nbformat": 4,
 "nbformat_minor": 5
}
